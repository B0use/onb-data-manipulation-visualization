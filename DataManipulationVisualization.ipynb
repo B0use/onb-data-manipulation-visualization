{
  "nbformat": 4,
  "nbformat_minor": 0,
  "metadata": {
    "colab": {
      "provenance": []
    },
    "kernelspec": {
      "name": "python3",
      "display_name": "Python 3"
    },
    "language_info": {
      "name": "python"
    }
  },
  "cells": [
    {
      "cell_type": "markdown",
      "source": [
        "### Welcome to Google Colab!\n",
        "\n",
        "**Instructions**: Make a copy of this notebook by clicking **File -> Save a copy in Drive**\n",
        "\n",
        "To run a cell, hit **shift + enter** or click the run button at the top left of each cell"
      ],
      "metadata": {
        "id": "wrCHVjQe9Ni_"
      }
    },
    {
      "cell_type": "markdown",
      "source": [
        "### Data Manipulation with Pandas\n",
        "\n",
        "**DataFrames** are the primary data structure in pandas. You can think of a DataFrame as a table with rows and columns, or as multiple lists concatenated together (where each list is a column).\n",
        "\n",
        "Pandas documentation: https://pandas.pydata.org/docs/user_guide/index.html#user-guide"
      ],
      "metadata": {
        "id": "m1RClbfy-TE3"
      }
    },
    {
      "cell_type": "code",
      "source": [
        "# Imports\n",
        "import numpy as np\n",
        "import pandas as pd\n",
        "\n",
        "np.random.seed(1)\n",
        "\n",
        "# Create a DataFrame\n",
        "df = pd.DataFrame({\n",
        "    \"Name\":[\"Alice\", \"Bob\", \"Chloe\"],\n",
        "    \"Age\":[20, 23, 21],\n",
        "    \"FavoriteColor\":[\"Blue\", \"Red\", \"Green\"]\n",
        "})\n",
        "\n",
        "# When you run a cell, the last expression's value is automatically outputted\n",
        "# This is why df is shown when this cell is run\n",
        "# To show a DataFrame, you can use display(df)\n",
        "df"
      ],
      "metadata": {
        "id": "og4slKd6-PUS"
      },
      "execution_count": null,
      "outputs": []
    },
    {
      "cell_type": "code",
      "source": [
        "# TODO 1: Output the dataframe using display"
      ],
      "metadata": {
        "id": "KkyQuyCC_iOV"
      },
      "execution_count": null,
      "outputs": []
    },
    {
      "cell_type": "markdown",
      "source": [
        "### Filtering By Column\n",
        "\n",
        "To view a specific column in a dataframe, you can do:\n",
        "\n",
        "`df[\"colName\"]` or `df.colName`\n",
        "\n",
        "To view multiple columns:\n",
        "\n",
        "`df[[\"col1\", \"col2\"]]` (note the double brackets as this is a list of column names)"
      ],
      "metadata": {
        "id": "ZNTaxzaHAVpS"
      }
    },
    {
      "cell_type": "code",
      "source": [
        "# TODO 2a: Select and display only the \"Name\" column from the dataframe\n",
        "\n",
        "# TODO 2b: Select and display only the \"Name\" and \"FavoriteColor\" columns from the dataframe"
      ],
      "metadata": {
        "id": "yiJT4gohAjAn"
      },
      "execution_count": null,
      "outputs": []
    },
    {
      "cell_type": "markdown",
      "source": [
        "### Now For A More Complex Dataset!\n",
        "\n",
        "The dataset includes information on different penguin species."
      ],
      "metadata": {
        "id": "HaAMb0puB5oQ"
      }
    },
    {
      "cell_type": "code",
      "source": [
        "import seaborn as sns\n",
        "\n",
        "# Load the Penguins dataset\n",
        "penguins_df = sns.load_dataset(\"penguins\")\n",
        "\n",
        "# Display the first 5 rows\n",
        "display(penguins_df.head(5))"
      ],
      "metadata": {
        "id": "UXdUBP7aB8ag"
      },
      "execution_count": null,
      "outputs": []
    },
    {
      "cell_type": "markdown",
      "source": [
        "### Some Useful Commands\n",
        "\n",
        "Pandas has many commands which can help you get a better understanding of a DataFrame. Try out these commands in the cell below and figure out what they do! Make sure you run them on the penguins dataframe (penguins_df).\n",
        "\n",
        "`df.shape`\n",
        "\n",
        "`df.columns`\n",
        "\n",
        "`df.describe()`\n",
        "\n",
        "`df.corr()`\n",
        "\n",
        "`df[\"col1\"].unique()`"
      ],
      "metadata": {
        "id": "s44ZnEqh62Tp"
      }
    },
    {
      "cell_type": "code",
      "source": [
        "# TODO 3: Try out the above commands and use them to answer these questions:\n",
        "\"\"\"\n",
        "How many rows are in the penguins DataFrame?\n",
        "What is the mean \"bill_length_mm\"?\n",
        "What is the minimum \"flipper_length_mm\"?\n",
        "What are the unique values in the \"species\" column?\n",
        "What are the unique values in the \"island\" column?\n",
        "\"\"\""
      ],
      "metadata": {
        "id": "Wx6atTuU7KGV"
      },
      "execution_count": null,
      "outputs": []
    },
    {
      "cell_type": "markdown",
      "source": [
        "### Filtering By Row"
      ],
      "metadata": {
        "id": "Q-423qCyLqHC"
      }
    },
    {
      "cell_type": "code",
      "source": [
        "# Get all rows where the species is \"Adelie\"\n",
        "penguins_df[penguins_df[\"species\"] == \"Adelie\"]"
      ],
      "metadata": {
        "id": "njM9QteDL5KL"
      },
      "execution_count": null,
      "outputs": []
    },
    {
      "cell_type": "code",
      "source": [
        "# Get all rows where the species is \"Adelie\" AND the bill length is over 39mm\n",
        "penguins_df[(penguins_df[\"species\"] == \"Adelie\") & (penguins_df[\"bill_length_mm\"] > 39)]"
      ],
      "metadata": {
        "id": "HdtsQSeUf-I6"
      },
      "execution_count": null,
      "outputs": []
    },
    {
      "cell_type": "code",
      "source": [
        "# TODO 4: Answer these questions:\n",
        "\"\"\"\n",
        "How many entries are there for each penguin species?\n",
        "How many entries are there for Adelie penguins with a body mass below 3400 grams?\n",
        "For all penguins with a bill depth above 18, how many are Female and how many are Male?\n",
        "\"\"\""
      ],
      "metadata": {
        "id": "ROQ2iX5AQHzX"
      },
      "execution_count": null,
      "outputs": []
    },
    {
      "cell_type": "markdown",
      "source": [
        "### Groupby\n",
        "\n",
        "Groupby is a command which allows you to group data based on one or more columns, then apply an aggregate function.\n",
        "\n",
        "General form:\n",
        "\n",
        "`df.groupby(\"col1\")[\"col2\"].aggregateFunction()`\n",
        "\n",
        "Examples of aggregate functions:\n",
        "\n",
        "`mean()`, `count()`, `sum()`, `min()`, `max()`\n"
      ],
      "metadata": {
        "id": "ynRr8afWa8CU"
      }
    },
    {
      "cell_type": "code",
      "source": [
        "# Group the dataset by species, then generate the average bill length for each species\n",
        "penguins_df.groupby(\"species\")[\"bill_length_mm\"].mean()"
      ],
      "metadata": {
        "id": "V_nA0jX3bUkW"
      },
      "execution_count": null,
      "outputs": []
    },
    {
      "cell_type": "code",
      "source": [
        "# Grouping by multiple columns with multiple aggregations\n",
        "penguins_df.groupby([\"species\", \"sex\"])[\"bill_length_mm\"].agg([\"mean\", \"min\", \"max\"])"
      ],
      "metadata": {
        "id": "tWih27QJb2WE"
      },
      "execution_count": null,
      "outputs": []
    },
    {
      "cell_type": "code",
      "source": [
        "# TODO 5: Answer the below questions:\n",
        "\"\"\"\n",
        "What is the average body mass for each penguin species?\n",
        "Which species has the highest average bill depth?\n",
        "How many entries are there for each species? Hint: count() does not require a \"col2\" filter.\n",
        "\"\"\""
      ],
      "metadata": {
        "id": "WH0jZn1bcMhz"
      },
      "execution_count": null,
      "outputs": []
    },
    {
      "cell_type": "markdown",
      "source": [
        "### Data Visualization With Seaborn\n",
        "\n",
        "Seaborn is a library for Python data visualization.\n",
        "\n",
        "Seaborn documentation: https://seaborn.pydata.org/tutorial.html"
      ],
      "metadata": {
        "id": "h3eYwCrRRqud"
      }
    },
    {
      "cell_type": "code",
      "source": [
        "import seaborn as sns\n",
        "import matplotlib.pyplot as plt\n",
        "\n",
        "sns.set()"
      ],
      "metadata": {
        "id": "fgj_edp0Rrlj"
      },
      "execution_count": null,
      "outputs": []
    },
    {
      "cell_type": "code",
      "source": [
        "# Scatterplot of bill_length_mm vs. bill_depth_mm\n",
        "sns.scatterplot(data=penguins_df, x=\"bill_length_mm\", y=\"bill_depth_mm\")\n",
        "plt.title(\"Bill Length (mm) vs Bill Depth (mm)\")\n",
        "plt.show()"
      ],
      "metadata": {
        "id": "RNe3V60PSQl8"
      },
      "execution_count": null,
      "outputs": []
    },
    {
      "cell_type": "code",
      "source": [
        "# Color the points by species and style them by sex\n",
        "sns.scatterplot(data=penguins_df, x=\"bill_length_mm\", y=\"bill_depth_mm\", hue=\"species\", style=\"sex\")\n",
        "plt.title(\"Bill Length (mm) vs Bill Depth (mm)\")\n",
        "plt.show()"
      ],
      "metadata": {
        "id": "4_8eaSgVUm-P"
      },
      "execution_count": null,
      "outputs": []
    },
    {
      "cell_type": "code",
      "source": [
        "# Histogram of the distribution of flipper length\n",
        "sns.histplot(penguins_df[\"flipper_length_mm\"], bins=20)\n",
        "plt.title(\"Distribution of Flipper Length\")\n",
        "plt.xlabel(\"Flipper Length (mm)\")\n",
        "plt.ylabel(\"Count\")\n",
        "plt.show()"
      ],
      "metadata": {
        "id": "-csyNiM1VVUo"
      },
      "execution_count": null,
      "outputs": []
    },
    {
      "cell_type": "markdown",
      "source": [
        "### More Visualizations\n",
        "\n",
        "Go to this link below and scroll down to Plotting functions. Try out some graphs! What conclusions can you draw from them?\n",
        "\n",
        "https://seaborn.pydata.org/tutorial.html\n",
        "\n",
        "### Suggestions:\n",
        "\n",
        "Scatterplot - Flipper Length vs. Body Mass (colored by species): https://seaborn.pydata.org/tutorial/relational.html#relating-variables-with-scatter-plots\n",
        "\n",
        "Box Plot - Distribution of Body Mass by Species: https://seaborn.pydata.org/generated/seaborn.boxplot.html#seaborn-boxplot"
      ],
      "metadata": {
        "id": "TqwCDOzLVwWR"
      }
    },
    {
      "cell_type": "code",
      "source": [
        "# TODO 6: Generate at least three more plots! What observations can you make?"
      ],
      "metadata": {
        "id": "T2pdqaMhV6mb"
      },
      "execution_count": null,
      "outputs": []
    }
  ]
}